{
 "cells": [
  {
   "cell_type": "markdown",
   "metadata": {},
   "source": [
    "<table align=\"left\">\n",
    "  <td>\n",
    "    <a target=\"_blank\" href=\"https://colab.research.google.com/github/georgia-tech-db/eva/blob/master/tutorials/18-stable-diffusion.ipynb\"><img src=\"https://www.tensorflow.org/images/colab_logo_32px.png\" /> Run on Google Colab</a>\n",
    "  </td>\n",
    "  <td>\n",
    "    <a target=\"_blank\" href=\"https://github.com/georgia-tech-db/eva/blob/master/tutorials/18-stable-diffusion.ipynb\"><img src=\"https://www.tensorflow.org/images/GitHub-Mark-32px.png\" /> View source on GitHub</a>\n",
    "  </td>\n",
    "  <td>\n",
    "    <a target=\"_blank\" href=\"https://github.com/georgia-tech-db/eva/raw/master/tutorials/18-stable-diffusion.ipynb\"><img src=\"https://www.tensorflow.org/images/download_logo_32px.png\" /> Download notebook</a>\n",
    "  </td>\n",
    "</table><br><br>"
   ]
  },
  {
   "cell_type": "code",
   "execution_count": 1,
   "metadata": {},
   "outputs": [],
   "source": [
    "# Import dependencies\n",
    "import os"
   ]
  },
  {
   "cell_type": "markdown",
   "metadata": {},
   "source": [
    "### Connect to EvaDB"
   ]
  },
  {
   "cell_type": "code",
   "execution_count": 5,
   "metadata": {},
   "outputs": [],
   "source": [
    "import evadb\n",
    "cursor = evadb.connect().cursor()"
   ]
  },
  {
   "cell_type": "code",
   "execution_count": 6,
   "metadata": {},
   "outputs": [
    {
     "name": "stdout",
     "output_type": "stream",
     "text": [
      "Welcome to EvaDB!\n",
      "========================================\n",
      "\n"
     ]
    }
   ],
   "source": [
    "# getting user input\n",
    "print(\"Welcome to EvaDB!\\n========================================\\n\")\n",
    "# you can change the module_name and function_name to get the information about the function you want\n",
    "module_name = \"replicate\"\n",
    "function_name = \"run\""
   ]
  },
  {
   "cell_type": "markdown",
   "metadata": {},
   "source": [
    "### Load the Describe Function UDF"
   ]
  },
  {
   "cell_type": "code",
   "execution_count": 8,
   "metadata": {},
   "outputs": [
    {
     "data": {
      "text/plain": [
       "<evadb.models.storage.batch.Batch at 0x7f563b3e9c10>"
      ]
     },
     "execution_count": 8,
     "metadata": {},
     "output_type": "execute_result"
    }
   ],
   "source": [
    "# set up the stable diffusion UDF available at functions/stable_diffusion.py\n",
    "cursor.query(\"\"\"CREATE FUNCTION IF NOT EXISTS DescribeFunction\n",
    "            IMPL  'functions/describe_function.py';\n",
    "                \"\"\").execute()"
   ]
  },
  {
   "cell_type": "markdown",
   "metadata": {},
   "source": [
    "### Create Table"
   ]
  },
  {
   "cell_type": "code",
   "execution_count": 9,
   "metadata": {},
   "outputs": [
    {
     "data": {
      "text/plain": [
       "<evadb.models.storage.batch.Batch at 0x7f563b3e9a90>"
      ]
     },
     "execution_count": 9,
     "metadata": {},
     "output_type": "execute_result"
    }
   ],
   "source": [
    "# # delete the table if it already exists\n",
    "cursor.query(\"\"\"DROP TABLE IF EXISTS FuncInfor\n",
    "                \"\"\").execute()\n",
    "\n",
    "# create the table specifying the type of the prompt column\n",
    "cursor.query(\"\"\"CREATE TABLE IF NOT EXISTS FuncInfor (\n",
    "             module     TEXT,\n",
    "             function   TEXT)\n",
    "                \"\"\").execute()"
   ]
  },
  {
   "cell_type": "markdown",
   "metadata": {},
   "source": [
    "### Load module_name and function_name into Table"
   ]
  },
  {
   "cell_type": "code",
   "execution_count": 10,
   "metadata": {},
   "outputs": [
    {
     "data": {
      "text/plain": [
       "<evadb.models.storage.batch.Batch at 0x7f563b3ee5a0>"
      ]
     },
     "execution_count": 10,
     "metadata": {},
     "output_type": "execute_result"
    }
   ],
   "source": [
    "# insert the module and function into the table\n",
    "cursor.query(f\"\"\"INSERT INTO FuncInfor (module, function) VALUES ('{module_name}', '{function_name}')\"\"\").execute()"
   ]
  },
  {
   "cell_type": "markdown",
   "metadata": {},
   "source": [
    "### Run Describe Function on the module and the function"
   ]
  },
  {
   "cell_type": "code",
   "execution_count": 11,
   "metadata": {},
   "outputs": [
    {
     "name": "stdout",
     "output_type": "stream",
     "text": [
      "module: replicate\n",
      "function: run\n",
      "param_name: ['ref' 'input' 'params']\n",
      "param_type: [<class 'str'> typing.Optional[typing.Dict[str, typing.Any]]\n",
      " typing.Unpack[ForwardRef('Predictions.CreatePredictionParams')]]\n",
      "return_type: [typing.Union[typing.Any, typing.Iterator[typing.Any]] nan nan]\n",
      "successfully get the values!\n",
      "successfully get the df!\n"
     ]
    }
   ],
   "source": [
    "# run stable diffusion on the prompts\n",
    "table = cursor.table(\"FuncInfor\").select(\"DescribeFunction(module, function)\").df()"
   ]
  },
  {
   "cell_type": "markdown",
   "metadata": {},
   "source": [
    "### Print the input and output information of this function"
   ]
  },
  {
   "cell_type": "code",
   "execution_count": 12,
   "metadata": {},
   "outputs": [
    {
     "name": "stdout",
     "output_type": "stream",
     "text": [
      "Function Parameters:\n",
      "ref: <class 'str'>\n",
      "input: typing.Optional[typing.Dict[str, typing.Any]]\n",
      "params: typing.Unpack[ForwardRef('Predictions.CreatePredictionParams')]\n",
      "\n",
      "Return Type:\n",
      "typing.Union[typing.Any, typing.Iterator[typing.Any]]\n"
     ]
    }
   ],
   "source": [
    "print(\"Function Parameters:\")\n",
    "for i in range(len(table['param_name'])):\n",
    "    print(f\"{table['param_name'][i]}: {table['param_type'][i]}\")\n",
    "\n",
    "print(\"\\nReturn Type:\")\n",
    "print(table['return_type'][0])"
   ]
  }
 ],
 "metadata": {
  "kernelspec": {
   "display_name": "eva",
   "language": "python",
   "name": "python3"
  },
  "language_info": {
   "codemirror_mode": {
    "name": "ipython",
    "version": 3
   },
   "file_extension": ".py",
   "mimetype": "text/x-python",
   "name": "python",
   "nbconvert_exporter": "python",
   "pygments_lexer": "ipython3",
   "version": "3.12.0"
  },
  "orig_nbformat": 4
 },
 "nbformat": 4,
 "nbformat_minor": 2
}
